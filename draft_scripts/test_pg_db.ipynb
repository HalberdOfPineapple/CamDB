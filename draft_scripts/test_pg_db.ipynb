{
 "cells": [
  {
   "cell_type": "code",
   "execution_count": 4,
   "metadata": {},
   "outputs": [],
   "source": [
    "import sys\n",
    "from pathlib import Path\n",
    "sys.path.append(str(Path('.').absolute().parent))\n",
    "\n",
    "from postgresql_db import PostgresqlDB\n",
    "from config_space import ConfigurationSpace, PGSQL_KNOB_JSON_13, PGSQL_JOB_SHAP\n",
    "\n",
    "IS_KV_CONFIG = {\n",
    "    PGSQL_JOB_SHAP: True,\n",
    "    PGSQL_KNOB_JSON_13: False,\n",
    "}\n",
    "DB_PWD = \"741286\"\n",
    "REMOTE_MODE = True\n",
    "\n",
    "DB_CONN_PARAMS = {\n",
    "    \"host\": \"localhost\",\n",
    "    \"port\": \"5432\",\n",
    "    \"user_name\": \"viktor\",\n",
    "    \"passwd\": DB_PWD,\n",
    "    \"db_name\": \"tpch\" # database name\n",
    "}\n"
   ]
  },
  {
   "cell_type": "code",
   "execution_count": 5,
   "metadata": {},
   "outputs": [],
   "source": [
    "db = PostgresqlDB(\n",
    "    knob_definition_path=PGSQL_JOB_SHAP,\n",
    "    remote_mode=REMOTE_MODE,\n",
    "    **DB_CONN_PARAMS\n",
    ")"
   ]
  },
  {
   "cell_type": "code",
   "execution_count": 6,
   "metadata": {},
   "outputs": [],
   "source": [
    "config_space = ConfigurationSpace(\n",
    "    knob_definition_path=PGSQL_JOB_SHAP, \n",
    "    is_kv_config=IS_KV_CONFIG[PGSQL_JOB_SHAP]\n",
    ")\n",
    "sample_config = config_space.sample_config()"
   ]
  },
  {
   "cell_type": "code",
   "execution_count": 7,
   "metadata": {},
   "outputs": [
    {
     "data": {
      "text/plain": [
       "float"
      ]
     },
     "execution_count": 7,
     "metadata": {},
     "output_type": "execute_result"
    }
   ],
   "source": [
    "type(sample_config['checkpoint_completion_target'])"
   ]
  },
  {
   "cell_type": "code",
   "execution_count": 8,
   "metadata": {},
   "outputs": [
    {
     "name": "stdout",
     "output_type": "stream",
     "text": [
      "\n",
      "[{'backend_flush_after': '856kB'}]\n",
      "[{'bgwriter_delay': '7206ms'}]\n",
      "[{'bgwriter_flush_after': '0'}]\n",
      "[{'bgwriter_lru_maxpages': '324627127'}]\n",
      "[{'bgwriter_lru_multiplier': '1.46756'}]\n",
      "[{'checkpoint_completion_target': '0.0923386'}]\n",
      "[{'checkpoint_flush_after': '376kB'}]\n",
      "[{'checkpoint_timeout': '29876s'}]\n",
      "[{'commit_delay': '39677'}]\n",
      "[{'commit_siblings': '539'}]\n",
      "[{'deadlock_timeout': '900213365ms'}]\n",
      "[{'default_statistics_target': '6853'}]\n",
      "[{'effective_cache_size': '1635624kB'}]\n",
      "[{'effective_io_concurrency': '878'}]\n",
      "[{'from_collapse_limit': '58814409'}]\n",
      "[{'join_collapse_limit': '1439818014'}]\n",
      "[{'maintenance_work_mem': '417901kB'}]\n",
      "[{'max_parallel_workers_per_gather': '572'}]\n",
      "[{'max_wal_size': '1124MB'}]\n",
      "[{'max_worker_processes': '51931'}]\n",
      "[{'min_wal_size': '6407MB'}]\n",
      "[{'random_page_cost': '96.8262'}]\n",
      "[{'seq_page_cost': '31.3424'}]\n",
      "[{'shared_buffers': '5538624kB'}]\n",
      "[{'temp_buffers': '70216kB'}]\n",
      "[{'wal_buffers': '1876120kB'}]\n",
      "[{'wal_sync_method': 'fsync'}]\n",
      "[{'wal_writer_delay': '391ms'}]\n",
      "[{'wal_writer_flush_after': '2917664384kB'}]\n",
      "[{'work_mem': '878151kB'}]\n"
     ]
    },
    {
     "data": {
      "text/plain": [
       "True"
      ]
     },
     "execution_count": 8,
     "metadata": {},
     "output_type": "execute_result"
    }
   ],
   "source": [
    "db.apply_knobs_offline(dict(sample_config))"
   ]
  },
  {
   "cell_type": "code",
   "execution_count": 12,
   "metadata": {},
   "outputs": [
    {
     "data": {
      "text/plain": [
       "True"
      ]
     },
     "execution_count": 12,
     "metadata": {},
     "output_type": "execute_result"
    }
   ],
   "source": [
    "import re\n",
    "import math\n",
    "\n",
    "math.isclose(float(re.findall(r\"[-+]?\\d*\\.\\d+|\\d+\", '0.0923386')[0]), sample_config['checkpoint_completion_target'], rel_tol=1e-5)"
   ]
  },
  {
   "cell_type": "code",
   "execution_count": null,
   "metadata": {},
   "outputs": [],
   "source": []
  }
 ],
 "metadata": {
  "kernelspec": {
   "display_name": "psql",
   "language": "python",
   "name": "python3"
  },
  "language_info": {
   "codemirror_mode": {
    "name": "ipython",
    "version": 3
   },
   "file_extension": ".py",
   "mimetype": "text/x-python",
   "name": "python",
   "nbconvert_exporter": "python",
   "pygments_lexer": "ipython3",
   "version": "3.10.13"
  }
 },
 "nbformat": 4,
 "nbformat_minor": 2
}
