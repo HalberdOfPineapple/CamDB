{
 "cells": [
  {
   "cell_type": "code",
   "execution_count": 1,
   "metadata": {},
   "outputs": [],
   "source": [
    "import time\n",
    "import os\n",
    "from configparser import ConfigParser\n",
    "import paramiko\n",
    "\n",
    "from camtune.database import PostgresqlDB\n",
    "from camtune.search_space import SearchSpace\n",
    "from camtune.utils.logger import load_logger\n",
    "from camtune.utils.parser import parse_pgbench_output\n",
    "\n",
    "DEFAULT_CONFIG_FILE = '/home/viktor/Experiments/CamDB/camtune/config/postgre_tpch_remote.yaml'\n",
    "BENCHMARK_DIR = '/home/viktor/Experiments/CamDB/camtune/benchmarks'"
   ]
  },
  {
   "cell_type": "code",
   "execution_count": 2,
   "metadata": {},
   "outputs": [
    {
     "name": "stdout",
     "output_type": "stream",
     "text": [
      "[PostgresqlDB] Exeucting queries listed in tpch_query_fast_list.txt\n"
     ]
    },
    {
     "data": {
      "text/plain": [
       "['/home/viktor/Experiments/CamDB/camtune/benchmarks/tpch_pgbench/1.sql',\n",
       " '/home/viktor/Experiments/CamDB/camtune/benchmarks/tpch_pgbench/2.sql',\n",
       " '/home/viktor/Experiments/CamDB/camtune/benchmarks/tpch_pgbench/3.sql',\n",
       " '/home/viktor/Experiments/CamDB/camtune/benchmarks/tpch_pgbench/4.sql',\n",
       " '/home/viktor/Experiments/CamDB/camtune/benchmarks/tpch_pgbench/5.sql',\n",
       " '/home/viktor/Experiments/CamDB/camtune/benchmarks/tpch_pgbench/6.sql',\n",
       " '/home/viktor/Experiments/CamDB/camtune/benchmarks/tpch_pgbench/7.sql',\n",
       " '/home/viktor/Experiments/CamDB/camtune/benchmarks/tpch_pgbench/8.sql',\n",
       " '/home/viktor/Experiments/CamDB/camtune/benchmarks/tpch_pgbench/9.sql',\n",
       " '/home/viktor/Experiments/CamDB/camtune/benchmarks/tpch_pgbench/10.sql',\n",
       " '/home/viktor/Experiments/CamDB/camtune/benchmarks/tpch_pgbench/11.sql',\n",
       " '/home/viktor/Experiments/CamDB/camtune/benchmarks/tpch_pgbench/12.sql',\n",
       " '/home/viktor/Experiments/CamDB/camtune/benchmarks/tpch_pgbench/13.sql',\n",
       " '/home/viktor/Experiments/CamDB/camtune/benchmarks/tpch_pgbench/14.sql',\n",
       " '/home/viktor/Experiments/CamDB/camtune/benchmarks/tpch_pgbench/15.sql',\n",
       " '/home/viktor/Experiments/CamDB/camtune/benchmarks/tpch_pgbench/16.sql',\n",
       " '/home/viktor/Experiments/CamDB/camtune/benchmarks/tpch_pgbench/18.sql',\n",
       " '/home/viktor/Experiments/CamDB/camtune/benchmarks/tpch_pgbench/19.sql']"
      ]
     },
     "execution_count": 2,
     "metadata": {},
     "output_type": "execute_result"
    }
   ],
   "source": [
    "import yaml\n",
    "with open(DEFAULT_CONFIG_FILE, 'r') as f:\n",
    "    config = yaml.safe_load(f)\n",
    "\n",
    "logger = load_logger(config)\n",
    "db = PostgresqlDB(config, param_logger=logger)\n",
    "\n",
    "res = {'benchmark': db.benchmark}\n",
    "total_exec_time = 0\n",
    "query_file_names = []\n",
    "\n",
    "if not db.benchmark_fast:\n",
    "    query_list_file = 'tpch_query_list.txt'\n",
    "else:\n",
    "    query_list_file = 'tpch_query_fast_list.txt'\n",
    "print(f\"[PostgresqlDB] Exeucting queries listed in {query_list_file}\")\n",
    "\n",
    "lines = open(os.path.join(BENCHMARK_DIR, query_list_file), 'r').readlines()\n",
    "for line in lines:\n",
    "    query_file_names.append(line.rstrip())\n",
    "query_file_names = [os.path.join(db.query_dir, query_file_name) for query_file_name in query_file_names]\n",
    "\n",
    "query_file_names"
   ]
  },
  {
   "cell_type": "code",
   "execution_count": 3,
   "metadata": {},
   "outputs": [
    {
     "name": "stdout",
     "output_type": "stream",
     "text": [
      "\n",
      "[PostgresqlDB] Error information: SSL SYSCALL error: EOF detected\n",
      "\n"
     ]
    }
   ],
   "source": [
    "search_space = SearchSpace(\n",
    "    config['tune']['knob_definitions'], \n",
    "    is_kv_config=True,\n",
    "    seed=1,\n",
    ")\n",
    "\n",
    "sample_configuration = search_space.input_space.sample_configuration()\n",
    "# sample_configuration\n",
    "db.apply_knobs_offline(sample_configuration)\n",
    "\n",
    "res = db.exec_queries(['/home/viktor/Experiments/CamDB/camtune/benchmarks/tpch_pgbench/18.sql'])"
   ]
  },
  {
   "cell_type": "code",
   "execution_count": 4,
   "metadata": {},
   "outputs": [
    {
     "data": {
      "text/plain": [
       "({}, ['/home/viktor/Experiments/CamDB/camtune/benchmarks/tpch_pgbench/18.sql'])"
      ]
     },
     "execution_count": 4,
     "metadata": {},
     "output_type": "execute_result"
    }
   ],
   "source": [
    "res"
   ]
  },
  {
   "cell_type": "code",
   "execution_count": null,
   "metadata": {},
   "outputs": [],
   "source": []
  },
  {
   "cell_type": "code",
   "execution_count": 31,
   "metadata": {},
   "outputs": [
    {
     "name": "stdout",
     "output_type": "stream",
     "text": [
      "/home/viktor/Experiments/CamDB/camtune/benchmarks/tpch_pgbench/1.sql\n",
      "/home/viktor/Experiments/CamDB/camtune/benchmarks/tpch_pgbench/2.sql\n",
      "/home/viktor/Experiments/CamDB/camtune/benchmarks/tpch_pgbench/3.sql\n",
      "/home/viktor/Experiments/CamDB/camtune/benchmarks/tpch_pgbench/4.sql\n",
      "/home/viktor/Experiments/CamDB/camtune/benchmarks/tpch_pgbench/5.sql\n",
      "/home/viktor/Experiments/CamDB/camtune/benchmarks/tpch_pgbench/6.sql\n",
      "/home/viktor/Experiments/CamDB/camtune/benchmarks/tpch_pgbench/7.sql\n",
      "/home/viktor/Experiments/CamDB/camtune/benchmarks/tpch_pgbench/8.sql\n",
      "/home/viktor/Experiments/CamDB/camtune/benchmarks/tpch_pgbench/9.sql\n",
      "/home/viktor/Experiments/CamDB/camtune/benchmarks/tpch_pgbench/10.sql\n",
      "/home/viktor/Experiments/CamDB/camtune/benchmarks/tpch_pgbench/11.sql\n",
      "/home/viktor/Experiments/CamDB/camtune/benchmarks/tpch_pgbench/12.sql\n",
      "/home/viktor/Experiments/CamDB/camtune/benchmarks/tpch_pgbench/13.sql\n",
      "/home/viktor/Experiments/CamDB/camtune/benchmarks/tpch_pgbench/14.sql\n",
      "/home/viktor/Experiments/CamDB/camtune/benchmarks/tpch_pgbench/15.sql\n",
      "/home/viktor/Experiments/CamDB/camtune/benchmarks/tpch_pgbench/16.sql\n",
      "/home/viktor/Experiments/CamDB/camtune/benchmarks/tpch_pgbench/18.sql\n"
     ]
    }
   ],
   "source": [
    "db_name = 'tpch'\n",
    "res: dict = {}\n",
    "failed = []\n",
    "\n",
    "remote_tmp_sql = '/tmp/tmp.sql'\n",
    "\n",
    "# Build SSH connection\n",
    "ssh = paramiko.SSHClient()\n",
    "ssh.set_missing_host_key_policy(paramiko.AutoAddPolicy())\n",
    "ssh.connect(db.host, username=db.ssh_user, password=db.ssh_pwd,\n",
    "            disabled_algorithms={'pubkeys': ['rsa-sha2-256', 'rsa-sha2-512']})\n",
    "\n",
    "start, end = 0, 17\n",
    "for i, query_file_name in enumerate(query_file_names[start:end]):\n",
    "    print(query_file_name)\n",
    "    sftp = ssh.open_sftp()\n",
    "    try:\n",
    "        # Put local query file into a temporary file in remote server\n",
    "        sftp.put(query_file_name, remote_tmp_sql)\n",
    "    except IOError:\n",
    "        logger.info(f'[PostgresqlDB] Remote SFTP put SQL query {query_file_name} failed')\n",
    "        if sftp: sftp.close()\n",
    "        continue\n",
    "    \n",
    "    if sftp: sftp.close()\n",
    "    # Execute pgbench command\n",
    "    command = f\"pgbench -f {remote_tmp_sql} {db_name} -n\"\n",
    "    _, stdout, _ = ssh.exec_command(command)\n",
    "    \n",
    "    retcode = stdout.channel.recv_exit_status()\n",
    "    if retcode != 0:\n",
    "        logger.info(f'[PostgresqlDB] Remote executing SQL query {query_file_name} using pgbench failed')\n",
    "        failed.append(query_file_name)\n",
    "        continue\n",
    "\n",
    "    output = stdout.read().decode('utf-8')\n",
    "    res[query_file_name] = parse_pgbench_output(output)\n",
    "    logger.info(f'[PostgresqlDB] Remote executing SQL query {query_file_name} using pgbench successfully')\n",
    "                            \n",
    "if ssh: ssh.close()"
   ]
  },
  {
   "cell_type": "code",
   "execution_count": 29,
   "metadata": {},
   "outputs": [
    {
     "name": "stdout",
     "output_type": "stream",
     "text": [
      "{'transaction_type': '/tmp/tmp.sql', 'scaling_factor': '1', 'query_mode': 'simple', 'number_of_clients': '1', 'number_of_threads': '1', 'number_of_transactions': '10', 'failed_transactions': '0', 'latency_average': '166.332', 'initial_connection_time': '2.226', 'tps': '6.012069'}\n"
     ]
    }
   ],
   "source": [
    "for i, query_file_name in enumerate(query_file_names[start:end]):\n",
    "    if i >= 1: break\n",
    "\n",
    "    print(res[query_file_name])"
   ]
  },
  {
   "cell_type": "code",
   "execution_count": 32,
   "metadata": {},
   "outputs": [
    {
     "data": {
      "text/plain": [
       "{'/home/viktor/Experiments/CamDB/camtune/benchmarks/tpch_pgbench/1.sql': {'transaction_type': '/tmp/tmp.sql',\n",
       "  'scaling_factor': '1',\n",
       "  'query_mode': 'simple',\n",
       "  'number_of_clients': '1',\n",
       "  'number_of_threads': '1',\n",
       "  'number_of_transactions': '10',\n",
       "  'failed_transactions': '0',\n",
       "  'latency_average': '1260.574',\n",
       "  'initial_connection_time': '1.979',\n",
       "  'tps': '0.793290'},\n",
       " '/home/viktor/Experiments/CamDB/camtune/benchmarks/tpch_pgbench/2.sql': {'transaction_type': '/tmp/tmp.sql',\n",
       "  'scaling_factor': '1',\n",
       "  'query_mode': 'simple',\n",
       "  'number_of_clients': '1',\n",
       "  'number_of_threads': '1',\n",
       "  'number_of_transactions': '10',\n",
       "  'failed_transactions': '0',\n",
       "  'latency_average': '145.708',\n",
       "  'initial_connection_time': '3.319',\n",
       "  'tps': '6.863046'},\n",
       " '/home/viktor/Experiments/CamDB/camtune/benchmarks/tpch_pgbench/3.sql': {'transaction_type': '/tmp/tmp.sql',\n",
       "  'scaling_factor': '1',\n",
       "  'query_mode': 'simple',\n",
       "  'number_of_clients': '1',\n",
       "  'number_of_threads': '1',\n",
       "  'number_of_transactions': '10',\n",
       "  'failed_transactions': '0',\n",
       "  'latency_average': '356.398',\n",
       "  'initial_connection_time': '2.992',\n",
       "  'tps': '2.805850'},\n",
       " '/home/viktor/Experiments/CamDB/camtune/benchmarks/tpch_pgbench/4.sql': {'transaction_type': '/tmp/tmp.sql',\n",
       "  'scaling_factor': '1',\n",
       "  'query_mode': 'simple',\n",
       "  'number_of_clients': '1',\n",
       "  'number_of_threads': '1',\n",
       "  'number_of_transactions': '10',\n",
       "  'failed_transactions': '0',\n",
       "  'latency_average': '166.241',\n",
       "  'initial_connection_time': '2.391',\n",
       "  'tps': '6.015367'},\n",
       " '/home/viktor/Experiments/CamDB/camtune/benchmarks/tpch_pgbench/5.sql': {'transaction_type': '/tmp/tmp.sql',\n",
       "  'scaling_factor': '1',\n",
       "  'query_mode': 'simple',\n",
       "  'number_of_clients': '1',\n",
       "  'number_of_threads': '1',\n",
       "  'number_of_transactions': '10',\n",
       "  'failed_transactions': '0',\n",
       "  'latency_average': '203.049',\n",
       "  'initial_connection_time': '1.997',\n",
       "  'tps': '4.924929'},\n",
       " '/home/viktor/Experiments/CamDB/camtune/benchmarks/tpch_pgbench/6.sql': {'transaction_type': '/tmp/tmp.sql',\n",
       "  'scaling_factor': '1',\n",
       "  'query_mode': 'simple',\n",
       "  'number_of_clients': '1',\n",
       "  'number_of_threads': '1',\n",
       "  'number_of_transactions': '10',\n",
       "  'failed_transactions': '0',\n",
       "  'latency_average': '248.535',\n",
       "  'initial_connection_time': '3.322',\n",
       "  'tps': '4.023586'},\n",
       " '/home/viktor/Experiments/CamDB/camtune/benchmarks/tpch_pgbench/7.sql': {'transaction_type': '/tmp/tmp.sql',\n",
       "  'scaling_factor': '1',\n",
       "  'query_mode': 'simple',\n",
       "  'number_of_clients': '1',\n",
       "  'number_of_threads': '1',\n",
       "  'number_of_transactions': '10',\n",
       "  'failed_transactions': '0',\n",
       "  'latency_average': '305.772',\n",
       "  'initial_connection_time': '2.132',\n",
       "  'tps': '3.270407'},\n",
       " '/home/viktor/Experiments/CamDB/camtune/benchmarks/tpch_pgbench/8.sql': {'transaction_type': '/tmp/tmp.sql',\n",
       "  'scaling_factor': '1',\n",
       "  'query_mode': 'simple',\n",
       "  'number_of_clients': '1',\n",
       "  'number_of_threads': '1',\n",
       "  'number_of_transactions': '10',\n",
       "  'failed_transactions': '0',\n",
       "  'latency_average': '438.546',\n",
       "  'initial_connection_time': '2.610',\n",
       "  'tps': '2.280261'},\n",
       " '/home/viktor/Experiments/CamDB/camtune/benchmarks/tpch_pgbench/9.sql': {'transaction_type': '/tmp/tmp.sql',\n",
       "  'scaling_factor': '1',\n",
       "  'query_mode': 'simple',\n",
       "  'number_of_clients': '1',\n",
       "  'number_of_threads': '1',\n",
       "  'number_of_transactions': '10',\n",
       "  'failed_transactions': '0',\n",
       "  'latency_average': '1155.695',\n",
       "  'initial_connection_time': '2.941',\n",
       "  'tps': '0.865280'},\n",
       " '/home/viktor/Experiments/CamDB/camtune/benchmarks/tpch_pgbench/10.sql': {'transaction_type': '/tmp/tmp.sql',\n",
       "  'scaling_factor': '1',\n",
       "  'query_mode': 'simple',\n",
       "  'number_of_clients': '1',\n",
       "  'number_of_threads': '1',\n",
       "  'number_of_transactions': '10',\n",
       "  'failed_transactions': '0',\n",
       "  'latency_average': '433.080',\n",
       "  'initial_connection_time': '2.387',\n",
       "  'tps': '2.309041'},\n",
       " '/home/viktor/Experiments/CamDB/camtune/benchmarks/tpch_pgbench/11.sql': {'transaction_type': '/tmp/tmp.sql',\n",
       "  'scaling_factor': '1',\n",
       "  'query_mode': 'simple',\n",
       "  'number_of_clients': '1',\n",
       "  'number_of_threads': '1',\n",
       "  'number_of_transactions': '10',\n",
       "  'failed_transactions': '0',\n",
       "  'latency_average': '84.891',\n",
       "  'initial_connection_time': '3.448',\n",
       "  'tps': '11.779853'},\n",
       " '/home/viktor/Experiments/CamDB/camtune/benchmarks/tpch_pgbench/12.sql': {'transaction_type': '/tmp/tmp.sql',\n",
       "  'scaling_factor': '1',\n",
       "  'query_mode': 'simple',\n",
       "  'number_of_clients': '1',\n",
       "  'number_of_threads': '1',\n",
       "  'number_of_transactions': '10',\n",
       "  'failed_transactions': '0',\n",
       "  'latency_average': '363.243',\n",
       "  'initial_connection_time': '2.142',\n",
       "  'tps': '2.752977'},\n",
       " '/home/viktor/Experiments/CamDB/camtune/benchmarks/tpch_pgbench/13.sql': {'transaction_type': '/tmp/tmp.sql',\n",
       "  'scaling_factor': '1',\n",
       "  'query_mode': 'simple',\n",
       "  'number_of_clients': '1',\n",
       "  'number_of_threads': '1',\n",
       "  'number_of_transactions': '10',\n",
       "  'failed_transactions': '0',\n",
       "  'latency_average': '382.602',\n",
       "  'initial_connection_time': '2.364',\n",
       "  'tps': '2.613683'},\n",
       " '/home/viktor/Experiments/CamDB/camtune/benchmarks/tpch_pgbench/14.sql': {'transaction_type': '/tmp/tmp.sql',\n",
       "  'scaling_factor': '1',\n",
       "  'query_mode': 'simple',\n",
       "  'number_of_clients': '1',\n",
       "  'number_of_threads': '1',\n",
       "  'number_of_transactions': '10',\n",
       "  'failed_transactions': '0',\n",
       "  'latency_average': '237.989',\n",
       "  'initial_connection_time': '2.949',\n",
       "  'tps': '4.201877'},\n",
       " '/home/viktor/Experiments/CamDB/camtune/benchmarks/tpch_pgbench/15.sql': {'transaction_type': '/tmp/tmp.sql',\n",
       "  'scaling_factor': '1',\n",
       "  'query_mode': 'simple',\n",
       "  'number_of_clients': '1',\n",
       "  'number_of_threads': '1',\n",
       "  'number_of_transactions': '10',\n",
       "  'failed_transactions': '0',\n",
       "  'latency_average': '494.494',\n",
       "  'initial_connection_time': '2.616',\n",
       "  'tps': '2.022268'},\n",
       " '/home/viktor/Experiments/CamDB/camtune/benchmarks/tpch_pgbench/16.sql': {'transaction_type': '/tmp/tmp.sql',\n",
       "  'scaling_factor': '1',\n",
       "  'query_mode': 'simple',\n",
       "  'number_of_clients': '1',\n",
       "  'number_of_threads': '1',\n",
       "  'number_of_transactions': '10',\n",
       "  'failed_transactions': '0',\n",
       "  'latency_average': '157.493',\n",
       "  'initial_connection_time': '2.235',\n",
       "  'tps': '6.349468'},\n",
       " '/home/viktor/Experiments/CamDB/camtune/benchmarks/tpch_pgbench/18.sql': {'transaction_type': '/tmp/tmp.sql',\n",
       "  'scaling_factor': '1',\n",
       "  'query_mode': 'simple',\n",
       "  'number_of_clients': '1',\n",
       "  'number_of_threads': '1',\n",
       "  'number_of_transactions': '10',\n",
       "  'failed_transactions': '0',\n",
       "  'latency_average': '2181.210',\n",
       "  'initial_connection_time': '2.678',\n",
       "  'tps': '0.458461'}}"
      ]
     },
     "execution_count": 32,
     "metadata": {},
     "output_type": "execute_result"
    }
   ],
   "source": [
    "res"
   ]
  },
  {
   "cell_type": "code",
   "execution_count": 11,
   "metadata": {},
   "outputs": [
    {
     "data": {
      "text/plain": [
       "170.316"
      ]
     },
     "execution_count": 11,
     "metadata": {},
     "output_type": "execute_result"
    }
   ],
   "source": [
    "float(res[query_file_name]['latency_average'])"
   ]
  },
  {
   "cell_type": "code",
   "execution_count": 18,
   "metadata": {},
   "outputs": [],
   "source": [
    "# Test a single SFTP query\n",
    "ssh = paramiko.SSHClient()\n",
    "ssh.set_missing_host_key_policy(paramiko.AutoAddPolicy())\n",
    "ssh.connect(db.host, username=db.ssh_user, password=db.ssh_pwd,\n",
    "            disabled_algorithms={'pubkeys': ['rsa-sha2-256', 'rsa-sha2-512']})\n",
    "\n",
    "sftp = ssh.open_sftp()\n",
    "sftp.put(query_file_name, remote_tmp_sql)\n",
    "if sftp: sftp.close()\n",
    "\n",
    "\n",
    "if ssh: ssh.close()"
   ]
  },
  {
   "cell_type": "code",
   "execution_count": 19,
   "metadata": {},
   "outputs": [
    {
     "data": {
      "text/plain": [
       "'/home/viktor/Experiments/CamDB/camtune/benchmarks/tpch/19.sql'"
      ]
     },
     "execution_count": 19,
     "metadata": {},
     "output_type": "execute_result"
    }
   ],
   "source": [
    "query_file_name"
   ]
  },
  {
   "cell_type": "code",
   "execution_count": null,
   "metadata": {},
   "outputs": [],
   "source": []
  }
 ],
 "metadata": {
  "kernelspec": {
   "display_name": "psql",
   "language": "python",
   "name": "python3"
  },
  "language_info": {
   "codemirror_mode": {
    "name": "ipython",
    "version": 3
   },
   "file_extension": ".py",
   "mimetype": "text/x-python",
   "name": "python",
   "nbconvert_exporter": "python",
   "pygments_lexer": "ipython3",
   "version": "3.10.13"
  }
 },
 "nbformat": 4,
 "nbformat_minor": 2
}
