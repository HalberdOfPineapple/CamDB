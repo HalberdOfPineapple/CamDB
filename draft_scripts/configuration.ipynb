{
 "cells": [
  {
   "cell_type": "code",
   "execution_count": 2,
   "metadata": {},
   "outputs": [],
   "source": [
    "import yaml\n",
    "\n",
    "DEFAULT_CONFIG_FILE = '/home/viktor/Experiments/CamDB/camtune/config/postgre_tpch_remote.yaml'\n",
    "with open(DEFAULT_CONFIG_FILE, 'r') as f:\n",
    "    expr_config = yaml.safe_load(f)"
   ]
  },
  {
   "cell_type": "code",
   "execution_count": 3,
   "metadata": {},
   "outputs": [
    {
     "name": "stderr",
     "output_type": "stream",
     "text": [
      "/home/viktor/miniconda3/envs/CamDB/lib/python3.10/site-packages/tqdm/auto.py:21: TqdmWarning: IProgress not found. Please update jupyter and ipywidgets. See https://ipywidgets.readthedocs.io/en/stable/user_install.html\n",
      "  from .autonotebook import tqdm as notebook_tqdm\n"
     ]
    }
   ],
   "source": [
    "from camtune.search_space import SearchSpace\n",
    "from camtune.database import PostgresqlDB\n",
    "\n",
    "# db = PostgresqlDB(expr_config)\n",
    "\n",
    "# -----------------------------------\n",
    "# Setup search space from knob definition file\n",
    "search_space = SearchSpace(\n",
    "    expr_config['tune']['knob_definitions'], \n",
    "    is_kv_config=True,\n",
    "    seed=expr_config['tune']['seed'],\n",
    ")"
   ]
  },
  {
   "cell_type": "code",
   "execution_count": 4,
   "metadata": {},
   "outputs": [
    {
     "name": "stdout",
     "output_type": "stream",
     "text": [
      "{'config_space': Configuration space object:\n",
      "  Hyperparameters:\n",
      "input\n",
      "    backend_flush_after, Type: UniformInteger, Range: [0, 256], Default: 0\n",
      "    bgwriter_delay, Type: UniformInteger, Range: [10, 10000], Default: 200\n",
      "    bgwriter_flush_after, Type: UniformInteger, Range: [0, 256], Default: 64\n",
      "    bgwriter_lru_maxpages, Type: UniformInteger, Range: [0, 1073741823], Default: 100\n",
      "    bgwriter_lru_multiplier, Type: UniformFloat, Range: [0.0, 10.0], Default: 2.0\n",
      "    checkpoint_completion_target, Type: UniformFloat, Range: [0.0, 1.0], Default: 0.5\n",
      "    checkpoint_flush_after, Type: UniformInteger, Range: [0, 256], Default: 32\n",
      "    checkpoint_timeout, Type: UniformInteger, Range: [30, 86400], Default: 300\n",
      "    commit_delay, Type: UniformInteger, Range: [0, 100000], Default: 0\n",
      "    commit_siblings, Type: UniformInteger, Range: [0, 1000], Default: 5\n",
      "    deadlock_timeout, Type: UniformInteger, Range: [1, 2147483647], Default: 1000\n",
      "    default_statistics_target, Type: UniformInteger, Range: [1, 10000], Default: 100\n",
      "    effective_cache_size, Type: UniformInteger, Range: [1, 1000000], Default: 524288\n",
      "    effective_io_concurrency, Type: UniformInteger, Range: [0, 1000], Default: 1\n",
      "    from_collapse_limit, Type: UniformInteger, Range: [1, 2147483647], Default: 8\n",
      "    join_collapse_limit, Type: UniformInteger, Range: [1, 2147483647], Default: 8\n",
      "    maintenance_work_mem, Type: UniformInteger, Range: [1024, 1000000], Default: 65536\n",
      "    max_parallel_workers_per_gather, Type: UniformInteger, Range: [0, 1024], Default: 0\n",
      "    max_wal_size, Type: UniformInteger, Range: [2, 8000], Default: 64\n",
      "    max_worker_processes, Type: UniformInteger, Range: [0, 262143], Default: 8\n",
      "    min_wal_size, Type: UniformInteger, Range: [2, 8000], Default: 80\n",
      "    random_page_cost, Type: UniformFloat, Range: [0.0, 100.0], Default: 4.0\n",
      "    seq_page_cost, Type: UniformFloat, Range: [0.0, 100.0], Default: 1.0\n",
      "    shared_buffers, Type: UniformInteger, Range: [128, 1000000], Default: 32678\n",
      "    temp_buffers, Type: UniformInteger, Range: [100, 10000], Default: 1024\n",
      "    wal_buffers, Type: UniformInteger, Range: [-1, 262143], Default: -1\n",
      "    wal_sync_method, Type: Categorical, Choices: {fsync, fdatasync, open_sync, open_datasync}, Default: fdatasync\n",
      "    wal_writer_delay, Type: UniformInteger, Range: [1, 10000], Default: 200\n",
      "    wal_writer_flush_after, Type: UniformInteger, Range: [0, 2147483647], Default: 128\n",
      "    work_mem, Type: UniformInteger, Range: [64, 8192], Default: 4096\n",
      ", 'allow_inactive_with_values': False, 'origin': None, 'config_id': None, '_values': None, '_vector': array([0.64785993, 0.99694725, 0.51945525, 0.65811273, 0.59906347,\n",
      "       0.75306733, 0.13813227, 0.00411596, 0.1495135 , 0.6988012 ,\n",
      "       0.59335256, 0.89995   , 0.4444575 , 0.31718281, 0.92308176,\n",
      "       0.46586186, 0.79836423, 0.19951219, 0.81453932, 0.14347267,\n",
      "       0.68352294, 0.05661583, 0.78367529, 0.73656704, 0.77047773,\n",
      "       0.18667722, 0.        , 0.88995   , 0.17367291, 0.77321934])}\n"
     ]
    }
   ],
   "source": [
    "configuration = search_space.input_space.sample_configuration()\n",
    "print(configuration.__dict__)"
   ]
  },
  {
   "cell_type": "code",
   "execution_count": 6,
   "metadata": {},
   "outputs": [
    {
     "data": {
      "text/plain": [
       "array([0.64785993, 0.99694725, 0.51945525, 0.65811273, 0.59906347,\n",
       "       0.75306733, 0.13813227, 0.00411596, 0.1495135 , 0.6988012 ,\n",
       "       0.59335256, 0.89995   , 0.4444575 , 0.31718281, 0.92308176,\n",
       "       0.46586186, 0.79836423, 0.19951219, 0.81453932, 0.14347267,\n",
       "       0.68352294, 0.05661583, 0.78367529, 0.73656704, 0.77047773,\n",
       "       0.18667722, 0.        , 0.88995   , 0.17367291, 0.77321934])"
      ]
     },
     "execution_count": 6,
     "metadata": {},
     "output_type": "execute_result"
    }
   ],
   "source": [
    "configuration._vector"
   ]
  },
  {
   "cell_type": "code",
   "execution_count": 10,
   "metadata": {},
   "outputs": [
    {
     "name": "stderr",
     "output_type": "stream",
     "text": [
      "/tmp/ipykernel_14454/753920500.py:3: DeprecationWarning: `Configuration` act's like a dictionary. Please use `dict(config)` instead of `get_dictionary` if you explicitly need a `dict`\n",
      "  config_dict = configuration.get_dictionary()\n"
     ]
    }
   ],
   "source": [
    "import json\n",
    "\n",
    "config_dict = dict(configuration)\n",
    "perf = 100\n",
    "perf_unit = 'ms'\n",
    "perf_name = 'latency'\n",
    "\n",
    "res_dict_0 = {\n",
    "    'perf_name': perf_name,\n",
    "    'perf_unit': perf_unit,\n",
    "    'perf_metric': perf,\n",
    "    'configuration': config_dict\n",
    "}\n",
    "res_dict_1 = {\n",
    "    'perf_name': perf_name,\n",
    "    'perf_unit': perf_unit,\n",
    "    'perf_metric': perf,\n",
    "    'configuration': config_dict\n",
    "}\n",
    "res_dict = {\n",
    "    0: res_dict_0,\n",
    "    1: res_dict_1,\n",
    "}\n",
    "\n",
    "with open('test_res.json', 'w') as f:\n",
    "    json.dump(res_dict, f)"
   ]
  },
  {
   "cell_type": "code",
   "execution_count": 12,
   "metadata": {},
   "outputs": [
    {
     "name": "stdout",
     "output_type": "stream",
     "text": [
      "Best Configuration: {'backend_flush_after': 166, 'bgwriter_delay': 9970, 'bgwriter_flush_after': 133, 'bgwriter_lru_maxpages': 706643164, 'bgwriter_lru_multiplier': 5.990634718944152, 'checkpoint_completion_target': 0.7530673338921845, 'checkpoint_flush_after': 35, 'checkpoint_timeout': 385, 'commit_delay': 14951, 'commit_siblings': 699, 'deadlock_timeout': 1274214923, 'default_statistics_target': 9000, 'effective_cache_size': 444458, 'effective_io_concurrency': 317, 'from_collapse_limit': 1982302983, 'join_collapse_limit': 1000430727, 'maintenance_work_mem': 798571, 'max_parallel_workers_per_gather': 204, 'max_wal_size': 6517, 'max_worker_processes': 37610, 'min_wal_size': 5469, 'random_page_cost': 5.661582833310231, 'seq_page_cost': 78.36752884048944, 'shared_buffers': 736601, 'temp_buffers': 7728, 'wal_buffers': 48935, 'wal_sync_method': 'fsync', 'wal_writer_delay': 8900, 'wal_writer_flush_after': 372959725, 'work_mem': 6349}\n"
     ]
    }
   ],
   "source": [
    "print(f\"Best Configuration: {dict(configuration)}\")"
   ]
  },
  {
   "cell_type": "code",
   "execution_count": 8,
   "metadata": {},
   "outputs": [],
   "source": [
    "configspace = search_space.input_space"
   ]
  },
  {
   "cell_type": "code",
   "execution_count": 9,
   "metadata": {},
   "outputs": [
    {
     "data": {
      "text/plain": [
       "30"
      ]
     },
     "execution_count": 9,
     "metadata": {},
     "output_type": "execute_result"
    }
   ],
   "source": [
    "len(list(configspace.values()))"
   ]
  },
  {
   "cell_type": "code",
   "execution_count": 10,
   "metadata": {},
   "outputs": [
    {
     "data": {
      "text/plain": [
       "backend_flush_after, Type: UniformInteger, Range: [0, 256], Default: 0"
      ]
     },
     "execution_count": 10,
     "metadata": {},
     "output_type": "execute_result"
    }
   ],
   "source": [
    "sample_obj = list(configspace.values())[0]\n",
    "sample_obj"
   ]
  },
  {
   "cell_type": "code",
   "execution_count": 15,
   "metadata": {},
   "outputs": [
    {
     "data": {
      "text/plain": [
       "'backend_flush_after'"
      ]
     },
     "execution_count": 15,
     "metadata": {},
     "output_type": "execute_result"
    }
   ],
   "source": [
    "list(configspace.values())[0].name"
   ]
  },
  {
   "cell_type": "code",
   "execution_count": 1,
   "metadata": {},
   "outputs": [
    {
     "ename": "NameError",
     "evalue": "name 'configspace' is not defined",
     "output_type": "error",
     "traceback": [
      "\u001b[0;31m---------------------------------------------------------------------------\u001b[0m",
      "\u001b[0;31mNameError\u001b[0m                                 Traceback (most recent call last)",
      "Cell \u001b[0;32mIn[1], line 1\u001b[0m\n\u001b[0;32m----> 1\u001b[0m \u001b[38;5;28;01mfor\u001b[39;00m config_name \u001b[38;5;129;01min\u001b[39;00m \u001b[38;5;28mlist\u001b[39m(\u001b[43mconfigspace\u001b[49m\u001b[38;5;241m.\u001b[39mkeys()):\n\u001b[1;32m      2\u001b[0m     \u001b[38;5;28mprint\u001b[39m(configspace[config_name]\u001b[38;5;241m.\u001b[39mlower, \u001b[38;5;124m'\u001b[39m\u001b[38;5;124m \u001b[39m\u001b[38;5;124m'\u001b[39m, configspace[config_name]\u001b[38;5;241m.\u001b[39mupper)\n",
      "\u001b[0;31mNameError\u001b[0m: name 'configspace' is not defined"
     ]
    }
   ],
   "source": [
    "for config_name in list(configspace.keys()):\n",
    "    print(configspace[config_name].lower, ' ', configspace[config_name].upper)"
   ]
  },
  {
   "cell_type": "code",
   "execution_count": 48,
   "metadata": {},
   "outputs": [
    {
     "data": {
      "text/plain": [
       "('fsync', 'fdatasync', 'open_sync', 'open_datasync')"
      ]
     },
     "execution_count": 48,
     "metadata": {},
     "output_type": "execute_result"
    }
   ],
   "source": [
    "configspace['wal_sync_method'].choices"
   ]
  },
  {
   "cell_type": "code",
   "execution_count": 45,
   "metadata": {},
   "outputs": [
    {
     "data": {
      "text/plain": [
       "backend_flush_after, Type: UniformInteger, Range: [0, 256], Default: 0"
      ]
     },
     "execution_count": 45,
     "metadata": {},
     "output_type": "execute_result"
    }
   ],
   "source": [
    "list(configspace.values())[0]"
   ]
  },
  {
   "cell_type": "code",
   "execution_count": 46,
   "metadata": {},
   "outputs": [
    {
     "data": {
      "text/plain": [
       "True"
      ]
     },
     "execution_count": 46,
     "metadata": {},
     "output_type": "execute_result"
    }
   ],
   "source": [
    "import ConfigSpace\n",
    "\n",
    "isinstance(list(configspace.values())[0], ConfigSpace.hyperparameters.UniformIntegerHyperparameter)"
   ]
  },
  {
   "cell_type": "code",
   "execution_count": null,
   "metadata": {},
   "outputs": [],
   "source": []
  }
 ],
 "metadata": {
  "kernelspec": {
   "display_name": "psql",
   "language": "python",
   "name": "python3"
  },
  "language_info": {
   "codemirror_mode": {
    "name": "ipython",
    "version": 3
   },
   "file_extension": ".py",
   "mimetype": "text/x-python",
   "name": "python",
   "nbconvert_exporter": "python",
   "pygments_lexer": "ipython3",
   "version": "3.10.13"
  }
 },
 "nbformat": 4,
 "nbformat_minor": 2
}
