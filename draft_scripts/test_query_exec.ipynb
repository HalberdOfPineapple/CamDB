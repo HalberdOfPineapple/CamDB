{
 "cells": [
  {
   "cell_type": "code",
   "execution_count": 11,
   "metadata": {},
   "outputs": [
    {
     "data": {
      "text/plain": [
       "['/home/viktor/Experiments/CamDB/camtune/config/postgre_tpch_remote.ini']"
      ]
     },
     "execution_count": 11,
     "metadata": {},
     "output_type": "execute_result"
    }
   ],
   "source": [
    "import os\n",
    "from configparser import ConfigParser\n",
    "\n",
    "from camtune.database import PostgresqlConnector, PostgresqlDB, QUERY_PATH_MAP\n",
    "\n",
    "DB_CONN_PARAMS = {\n",
    "    \"host\": \"localhost\",\n",
    "    \"port\": \"5432\",\n",
    "    \"user_name\": \"viktor\",\n",
    "    \"passwd\": \"741286\",\n",
    "    \"db_name\": \"tpch\" # database name\n",
    "}\n",
    "\n",
    "config_parser = ConfigParser()\n",
    "sample_config_path = '/home/viktor/Experiments/CamDB/camtune/config/postgre_tpch_remote.ini'\n",
    "config_parser.read(sample_config_path)"
   ]
  },
  {
   "cell_type": "code",
   "execution_count": 15,
   "metadata": {},
   "outputs": [
    {
     "name": "stdout",
     "output_type": "stream",
     "text": [
      "[{'executed_query_name': 'tpch_18.sql', 'execution_time': Decimal('4.315894')}]\n"
     ]
    }
   ],
   "source": [
    "test_query_path = os.path.join(\n",
    "    QUERY_PATH_MAP[config_parser['database']['benchmark']], '18.sql')\n",
    "with open(test_query_path, 'r') as f:\n",
    "    sql_query = ' '.join(f.readlines())\n",
    "\n",
    "db_conn = PostgresqlConnector()\n",
    "results = db_conn.fetch_results(sql_query)\n",
    "print(results)\n",
    "db_conn.close_db()"
   ]
  },
  {
   "cell_type": "code",
   "execution_count": 8,
   "metadata": {},
   "outputs": [],
   "source": [
    "import json\n",
    "knobs_json_file = '/home/viktor/Experiments/TPC-H/knob_definitions/JOB_SHAP_PostgreSQL.json'\n",
    "with open(knobs_json_file, 'r') as f:\n",
    "    loaded = json.load(f)"
   ]
  },
  {
   "cell_type": "code",
   "execution_count": 10,
   "metadata": {},
   "outputs": [
    {
     "data": {
      "text/plain": [
       "dict"
      ]
     },
     "execution_count": 10,
     "metadata": {},
     "output_type": "execute_result"
    }
   ],
   "source": [
    "type(loaded)"
   ]
  },
  {
   "cell_type": "code",
   "execution_count": null,
   "metadata": {},
   "outputs": [],
   "source": []
  }
 ],
 "metadata": {
  "kernelspec": {
   "display_name": "psql",
   "language": "python",
   "name": "python3"
  },
  "language_info": {
   "codemirror_mode": {
    "name": "ipython",
    "version": 3
   },
   "file_extension": ".py",
   "mimetype": "text/x-python",
   "name": "python",
   "nbconvert_exporter": "python",
   "pygments_lexer": "ipython3",
   "version": "3.10.13"
  }
 },
 "nbformat": 4,
 "nbformat_minor": 2
}
