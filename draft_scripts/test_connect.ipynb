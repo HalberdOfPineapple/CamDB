{
 "cells": [
  {
   "cell_type": "code",
   "execution_count": 1,
   "metadata": {},
   "outputs": [],
   "source": [
    "import psycopg2\n",
    "import time\n",
    "\n",
    "import sys\n",
    "from pathlib import Path\n",
    "sys.path.append(str(Path('.').absolute().parent))\n",
    "from dbconnector import DBConnector, PostgresqlConnector\n",
    "\n",
    "# Define the query\n",
    "query = \"\"\"\n",
    "SELECT\n",
    "    l_returnflag,\n",
    "    l_linestatus,\n",
    "    SUM(l_quantity) AS sum_qty,\n",
    "    SUM(l_extendedprice) AS sum_base_price,\n",
    "    SUM(l_extendedprice * (1 - l_discount)) AS sum_disc_price,\n",
    "    SUM(l_extendedprice * (1 - l_discount) * (1 + l_tax)) AS sum_charge,\n",
    "    AVG(l_quantity) AS avg_qty,\n",
    "    AVG(l_extendedprice) AS avg_price,\n",
    "    AVG(l_discount) AS avg_disc,\n",
    "    COUNT(*) AS count_order\n",
    "FROM\n",
    "    lineitem\n",
    "WHERE\n",
    "    l_shipdate <= DATE '1998-12-01' - INTERVAL '1 day'\n",
    "GROUP BY\n",
    "    l_returnflag,\n",
    "    l_linestatus\n",
    "ORDER BY\n",
    "    l_returnflag,\n",
    "    l_linestatus;\n",
    "\"\"\""
   ]
  },
  {
   "cell_type": "code",
   "execution_count": 2,
   "metadata": {},
   "outputs": [],
   "source": [
    "conn_params = {\n",
    "    'host':'localhost', \n",
    "    'port':'5432',\n",
    "    'user':'viktor',\n",
    "    'passwd':'741286', \n",
    "    'name':'tpch',\n",
    "}\n",
    "\n",
    "db_connector = PostgresqlConnector(**conn_params)\n",
    "results = db_connector.fetch_results(sql=query)\n",
    "db_connector.close_db()"
   ]
  },
  {
   "cell_type": "code",
   "execution_count": 3,
   "metadata": {},
   "outputs": [
    {
     "data": {
      "text/plain": [
       "[{'l_returnflag': 'A',\n",
       "  'l_linestatus': 'F',\n",
       "  'sum_qty': Decimal('37734107.00'),\n",
       "  'sum_base_price': Decimal('56586554400.73'),\n",
       "  'sum_disc_price': Decimal('53758257134.8700'),\n",
       "  'sum_charge': Decimal('55909065222.827692'),\n",
       "  'avg_qty': Decimal('25.5220058532573370'),\n",
       "  'avg_price': Decimal('38273.129734621672'),\n",
       "  'avg_disc': Decimal('0.04998529583839761162'),\n",
       "  'count_order': 1478493},\n",
       " {'l_returnflag': 'N',\n",
       "  'l_linestatus': 'F',\n",
       "  'sum_qty': Decimal('991417.00'),\n",
       "  'sum_base_price': Decimal('1487504710.38'),\n",
       "  'sum_disc_price': Decimal('1413082168.0541'),\n",
       "  'sum_charge': Decimal('1469649223.194375'),\n",
       "  'avg_qty': Decimal('25.5164719205229835'),\n",
       "  'avg_price': Decimal('38284.467760848304'),\n",
       "  'avg_disc': Decimal('0.05009342667421629691'),\n",
       "  'count_order': 38854},\n",
       " {'l_returnflag': 'N',\n",
       "  'l_linestatus': 'O',\n",
       "  'sum_qty': Decimal('76632994.00'),\n",
       "  'sum_base_price': Decimal('114934382936.97'),\n",
       "  'sum_disc_price': Decimal('109188796888.1142'),\n",
       "  'sum_charge': Decimal('113560190007.356299'),\n",
       "  'avg_qty': Decimal('25.5019980166257346'),\n",
       "  'avg_price': Decimal('38247.969349869217'),\n",
       "  'avg_disc': Decimal('0.05000029617501613987'),\n",
       "  'count_order': 3004980},\n",
       " {'l_returnflag': 'R',\n",
       "  'l_linestatus': 'F',\n",
       "  'sum_qty': Decimal('37719753.00'),\n",
       "  'sum_base_price': Decimal('56568041380.90'),\n",
       "  'sum_disc_price': Decimal('53741292684.6040'),\n",
       "  'sum_charge': Decimal('55889619119.831932'),\n",
       "  'avg_qty': Decimal('25.5057936126907707'),\n",
       "  'avg_price': Decimal('38250.854626099657'),\n",
       "  'avg_disc': Decimal('0.05000940583012705647'),\n",
       "  'count_order': 1478870}]"
      ]
     },
     "execution_count": 3,
     "metadata": {},
     "output_type": "execute_result"
    }
   ],
   "source": [
    "results"
   ]
  },
  {
   "cell_type": "code",
   "execution_count": null,
   "metadata": {},
   "outputs": [],
   "source": []
  }
 ],
 "metadata": {
  "kernelspec": {
   "display_name": "psql",
   "language": "python",
   "name": "python3"
  },
  "language_info": {
   "codemirror_mode": {
    "name": "ipython",
    "version": 3
   },
   "file_extension": ".py",
   "mimetype": "text/x-python",
   "name": "python",
   "nbconvert_exporter": "python",
   "pygments_lexer": "ipython3",
   "version": "3.10.13"
  }
 },
 "nbformat": 4,
 "nbformat_minor": 2
}
